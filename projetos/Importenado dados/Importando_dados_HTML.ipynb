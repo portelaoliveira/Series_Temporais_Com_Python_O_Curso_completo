{
 "cells": [
  {
   "cell_type": "code",
   "execution_count": 3,
   "metadata": {},
   "outputs": [],
   "source": [
    "import pandas as pd\n",
    "import html5lib\n",
    "br = pd.read_html(\"https://pt.wikipedia.org/wiki/Subdivis%C3%B5es_do_Brasil#:~:text=As%20unidades%20federativas%20do%20Brasil,a%20Rep%C3%BAblica%20Federativa%20do%20Brasil.\")"
   ]
  },
  {
   "cell_type": "code",
   "execution_count": 4,
   "metadata": {},
   "outputs": [
    {
     "name": "stdout",
     "output_type": "stream",
     "text": [
      "<class 'list'>\n"
     ]
    }
   ],
   "source": [
    "print(type(br))"
   ]
  },
  {
   "cell_type": "code",
   "execution_count": 5,
   "metadata": {},
   "outputs": [
    {
     "name": "stdout",
     "output_type": "stream",
     "text": [
      "               0                                                  1  \\\n",
      "0     Capítulo I             Da Organização Político-Administrativa   \n",
      "1    Capítulo II                                           Da União   \n",
      "2   Capítulo III                              Dos Estados Federados   \n",
      "3    Capítulo IV                                     Dos Municípios   \n",
      "4     Capítulo V              Do Distrito Federal e dos Territórios   \n",
      "5        Seção I                                Do Distrito Federal   \n",
      "6       Seção II                                    Dos Territórios   \n",
      "7    Capítulo VI                                     Da Intervenção   \n",
      "8   Capítulo VII                           Da Administração Pública   \n",
      "9        Seção I                                 Disposições Gerais   \n",
      "10      Seção II                            Dos Servidores Públicos   \n",
      "11     Seção III  Dos Militares dos Estados, do Distrito Federal...   \n",
      "12      Seção IV                                        Das Regiões   \n",
      "\n",
      "             2  \n",
      "0   art. 18-19  \n",
      "1   art. 20-24  \n",
      "2   art. 25-28  \n",
      "3   art. 29-31  \n",
      "4   art. 32-33  \n",
      "5      art. 32  \n",
      "6      art. 33  \n",
      "7   art. 34-36  \n",
      "8   art. 37-43  \n",
      "9   art. 37-38  \n",
      "10  art. 39-41  \n",
      "11     art. 42  \n",
      "12     art. 43  \n"
     ]
    }
   ],
   "source": [
    "u = br[0]\n",
    "print(u)"
   ]
  },
  {
   "cell_type": "code",
   "execution_count": 7,
   "metadata": {},
   "outputs": [
    {
     "name": "stdout",
     "output_type": "stream",
     "text": [
      "    Posição            Nome do banco   Cidade sede  Lucro em R$ (milhões)  \\\n",
      "0         1      Banco Itaú Unibanco     São Paulo                24.9774   \n",
      "1         2           Banco Bradesco        Osasco                19.0850   \n",
      "2         3          Banco do Brasil      Brasília                12.8620   \n",
      "3         4   Banco Santander Brasil     São Paulo                12.1661   \n",
      "4         5  Caixa Econômica Federal      Brasília                10.3553   \n",
      "5         6                   Sicoob      Brasília                 3.0861   \n",
      "6         7        Banco BTG Pactual     São Paulo                 2.3608   \n",
      "7         8              Banco Safra     São Paulo                 2.1458   \n",
      "8         9          Citibank Brasil     São Paulo                 1.3013   \n",
      "9        10         Banco Votorantim     São Paulo                 1.0612   \n",
      "10       11                 Banrisul  Porto Alegre                 1.0486   \n",
      "11       12        Banco do Nordeste     Fortaleza              7255.0000   \n",
      "\n",
      "    Ano dos dados  País de origem  \n",
      "0            2018          Brasil  \n",
      "1            2018          Brasil  \n",
      "2            2018          Brasil  \n",
      "3            2018         Espanha  \n",
      "4            2018          Brasil  \n",
      "5            2018          Brasil  \n",
      "6            2018          Brasil  \n",
      "7            2018          Brasil  \n",
      "8            2018  Estados Unidos  \n",
      "9            2018          Brasil  \n",
      "10           2018          Brasil  \n",
      "11           2018          Brasil  \n"
     ]
    }
   ],
   "source": [
    "bcs = pd.read_html('https://pt.wikipedia.org/wiki/Lista_dos_maiores_bancos_do_Brasil')\n",
    "b = bcs[3]\n",
    "print(b)"
   ]
  },
  {
   "cell_type": "code",
   "execution_count": null,
   "metadata": {},
   "outputs": [],
   "source": []
  }
 ],
 "metadata": {
  "kernelspec": {
   "display_name": "Python 3",
   "language": "python",
   "name": "python3"
  },
  "language_info": {
   "codemirror_mode": {
    "name": "ipython",
    "version": 3
   },
   "file_extension": ".py",
   "mimetype": "text/x-python",
   "name": "python",
   "nbconvert_exporter": "python",
   "pygments_lexer": "ipython3",
   "version": "3.7.6"
  }
 },
 "nbformat": 4,
 "nbformat_minor": 4
}
