{
 "cells": [
  {
   "cell_type": "code",
   "execution_count": 7,
   "metadata": {},
   "outputs": [],
   "source": [
    "# Importendo as bibliotecas\n",
    "\n",
    "import pandas as pd\n",
    "from datetime import datetime\n",
    "import matplotlib.pyplot as plt\n",
    "%matplotlib inline\n",
    "from matplotlib.pylab import rcParams\n",
    "rcParams['figure.figsize'] = 15, 6 # Define as dimensões dos gráficos"
   ]
  },
  {
   "cell_type": "code",
   "execution_count": 8,
   "metadata": {},
   "outputs": [
    {
     "data": {
      "text/plain": [
       "Latitude     float64\n",
       "Longitude    float64\n",
       "Depth/Km     float64\n",
       "Magnitude    float64\n",
       "dtype: object"
      ]
     },
     "execution_count": 8,
     "metadata": {},
     "output_type": "execute_result"
    }
   ],
   "source": [
    "# Terremotos na Itália no ano de 2016\n",
    "\n",
    "df = pd.read_csv('Dados//italy_earthquakes_from_2016-08-24_to_2016-11-30.csv').set_index('Time') # DataFrame\n",
    "df.dtypes"
   ]
  },
  {
   "cell_type": "code",
   "execution_count": 9,
   "metadata": {},
   "outputs": [
    {
     "data": {
      "text/html": [
       "<div>\n",
       "<style scoped>\n",
       "    .dataframe tbody tr th:only-of-type {\n",
       "        vertical-align: middle;\n",
       "    }\n",
       "\n",
       "    .dataframe tbody tr th {\n",
       "        vertical-align: top;\n",
       "    }\n",
       "\n",
       "    .dataframe thead th {\n",
       "        text-align: right;\n",
       "    }\n",
       "</style>\n",
       "<table border=\"1\" class=\"dataframe\">\n",
       "  <thead>\n",
       "    <tr style=\"text-align: right;\">\n",
       "      <th></th>\n",
       "      <th>Latitude</th>\n",
       "      <th>Longitude</th>\n",
       "      <th>Depth/Km</th>\n",
       "      <th>Magnitude</th>\n",
       "    </tr>\n",
       "    <tr>\n",
       "      <th>Time</th>\n",
       "      <th></th>\n",
       "      <th></th>\n",
       "      <th></th>\n",
       "      <th></th>\n",
       "    </tr>\n",
       "  </thead>\n",
       "  <tbody>\n",
       "    <tr>\n",
       "      <th>2016-08-24 03:36:32.000</th>\n",
       "      <td>42.6983</td>\n",
       "      <td>13.2335</td>\n",
       "      <td>8.1</td>\n",
       "      <td>6.0</td>\n",
       "    </tr>\n",
       "    <tr>\n",
       "      <th>2016-08-24 03:37:26.580</th>\n",
       "      <td>42.7123</td>\n",
       "      <td>13.2533</td>\n",
       "      <td>9.0</td>\n",
       "      <td>4.5</td>\n",
       "    </tr>\n",
       "    <tr>\n",
       "      <th>2016-08-24 03:40:46.590</th>\n",
       "      <td>42.7647</td>\n",
       "      <td>13.1723</td>\n",
       "      <td>9.7</td>\n",
       "      <td>3.8</td>\n",
       "    </tr>\n",
       "    <tr>\n",
       "      <th>2016-08-24 03:41:38.900</th>\n",
       "      <td>42.7803</td>\n",
       "      <td>13.1683</td>\n",
       "      <td>9.7</td>\n",
       "      <td>3.9</td>\n",
       "    </tr>\n",
       "    <tr>\n",
       "      <th>2016-08-24 03:42:07.170</th>\n",
       "      <td>42.7798</td>\n",
       "      <td>13.1575</td>\n",
       "      <td>9.7</td>\n",
       "      <td>3.6</td>\n",
       "    </tr>\n",
       "  </tbody>\n",
       "</table>\n",
       "</div>"
      ],
      "text/plain": [
       "                         Latitude  Longitude  Depth/Km  Magnitude\n",
       "Time                                                             \n",
       "2016-08-24 03:36:32.000   42.6983    13.2335       8.1        6.0\n",
       "2016-08-24 03:37:26.580   42.7123    13.2533       9.0        4.5\n",
       "2016-08-24 03:40:46.590   42.7647    13.1723       9.7        3.8\n",
       "2016-08-24 03:41:38.900   42.7803    13.1683       9.7        3.9\n",
       "2016-08-24 03:42:07.170   42.7798    13.1575       9.7        3.6"
      ]
     },
     "execution_count": 9,
     "metadata": {},
     "output_type": "execute_result"
    }
   ],
   "source": [
    "df.index = pd.to_datetime(df.index) # Convertendo a colunda 'Time' para datetime\n",
    "df.head()\n"
   ]
  },
  {
   "cell_type": "markdown",
   "metadata": {},
   "source": [
    "\n",
    "### Vamos exibir variações de duas séries temporais em um mesmo gráfico. Vamos gerar um \n",
    "### gráfico de barras que mostre a variação diaria entre magnitude e profundidade.\n",
    "\n",
    "\n"
   ]
  },
  {
   "cell_type": "code",
   "execution_count": 10,
   "metadata": {},
   "outputs": [
    {
     "data": {
      "text/html": [
       "<div>\n",
       "<style scoped>\n",
       "    .dataframe tbody tr th:only-of-type {\n",
       "        vertical-align: middle;\n",
       "    }\n",
       "\n",
       "    .dataframe tbody tr th {\n",
       "        vertical-align: top;\n",
       "    }\n",
       "\n",
       "    .dataframe thead th {\n",
       "        text-align: right;\n",
       "    }\n",
       "</style>\n",
       "<table border=\"1\" class=\"dataframe\">\n",
       "  <thead>\n",
       "    <tr style=\"text-align: right;\">\n",
       "      <th></th>\n",
       "      <th>Magnitude</th>\n",
       "      <th>Depth/Km</th>\n",
       "    </tr>\n",
       "    <tr>\n",
       "      <th>Time</th>\n",
       "      <th></th>\n",
       "      <th></th>\n",
       "    </tr>\n",
       "  </thead>\n",
       "  <tbody>\n",
       "    <tr>\n",
       "      <th>0</th>\n",
       "      <td>3.219048</td>\n",
       "      <td>9.071429</td>\n",
       "    </tr>\n",
       "    <tr>\n",
       "      <th>1</th>\n",
       "      <td>3.341667</td>\n",
       "      <td>9.720833</td>\n",
       "    </tr>\n",
       "    <tr>\n",
       "      <th>2</th>\n",
       "      <td>3.271429</td>\n",
       "      <td>9.457143</td>\n",
       "    </tr>\n",
       "    <tr>\n",
       "      <th>3</th>\n",
       "      <td>3.393478</td>\n",
       "      <td>9.556522</td>\n",
       "    </tr>\n",
       "    <tr>\n",
       "      <th>4</th>\n",
       "      <td>3.369811</td>\n",
       "      <td>9.173585</td>\n",
       "    </tr>\n",
       "  </tbody>\n",
       "</table>\n",
       "</div>"
      ],
      "text/plain": [
       "      Magnitude  Depth/Km\n",
       "Time                     \n",
       "0      3.219048  9.071429\n",
       "1      3.341667  9.720833\n",
       "2      3.271429  9.457143\n",
       "3      3.393478  9.556522\n",
       "4      3.369811  9.173585"
      ]
     },
     "execution_count": 10,
     "metadata": {},
     "output_type": "execute_result"
    }
   ],
   "source": [
    "# Filtrando os dados\n",
    "\n",
    "'''\n",
    "Estamos filtrando a coluna da magnitude com (df.where((df['Magnitude'] >= 3.0))), mas selecionando\n",
    "as colunas de magnitude e de profundidade (dropna()['Magnitude', 'Depth/Km'])\n",
    "'''\n",
    "\n",
    "depth_mag = df.where((df['Magnitude'] >= 3.0)).dropna()[['Magnitude', 'Depth/Km']]\n",
    "dm = depth_mag.groupby(depth_mag.index.hour).mean()\n",
    "dm.head()"
   ]
  },
  {
   "cell_type": "code",
   "execution_count": 12,
   "metadata": {},
   "outputs": [
    {
     "data": {
      "text/plain": [
       "Text(0.5, 1.0, 'Magnitude vs Profundidade durante o dia')"
      ]
     },
     "execution_count": 12,
     "metadata": {},
     "output_type": "execute_result"
    },
    {
     "data": {
      "image/png": "[encoded data removed]",
      "text/plain": [
       "<Figure size 1080x432 with 2 Axes>"
      ]
     },
     "metadata": {
      "needs_background": "light"
     },
     "output_type": "display_data"
    }
   ],
   "source": [
    "fig = plt.figure()\n",
    "ax = fig.add_subplot(111)\n",
    "ax.set_ylim([2.5, 4.0])\n",
    "ax.set_ylabel(\"Magnitude\")\n",
    "ax.set_xlabel(\"Hora do Dia\")\n",
    "ax.yaxis.label.set_color(\"gray\")\n",
    "\n",
    "ax2 = ax.twinx() # Gera outra barra com as mesmas características do eixo ax\n",
    "ax2.set_ylim([4.0, 12])\n",
    "ax2.set_ylabel(\"Profundidade/Km\")\n",
    "ax2.set_xlabel(\"Hora do Dia\")\n",
    "ax2.yaxis.label.set_color(\"brown\")\n",
    "\n",
    "width = 0.5\n",
    "\n",
    "dm[\"Magnitude\"].plot(kind=\"bar\", color='gray', ax=ax, width=width, position=1)\n",
    "dm[\"Depth/Km\"].plot(kind=\"bar\", color=\"brown\", ax=ax2, width=width, position=0)\n",
    "plt.grid(False)\n",
    "plt.title(\"Magnitude vs Profundidade durante o dia\")"
   ]
  },
  {
   "cell_type": "code",
   "execution_count": null,
   "metadata": {},
   "outputs": [],
   "source": []
  }
 ],
 "metadata": {
  "kernelspec": {
   "display_name": "Python 3",
   "language": "python",
   "name": "python3"
  },
  "language_info": {
   "codemirror_mode": {
    "name": "ipython",
    "version": 3
   },
   "file_extension": ".py",
   "mimetype": "text/x-python",
   "name": "python",
   "nbconvert_exporter": "python",
   "pygments_lexer": "ipython3",
   "version": "3.7.6"
  }
 },
 "nbformat": 4,
 "nbformat_minor": 4
}
