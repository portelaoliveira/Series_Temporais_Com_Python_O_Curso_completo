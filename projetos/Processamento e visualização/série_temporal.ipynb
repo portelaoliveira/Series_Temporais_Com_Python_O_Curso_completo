{
 "cells": [
  {
   "cell_type": "code",
   "execution_count": 1,
   "metadata": {},
   "outputs": [],
   "source": [
    "from pandas import read_csv"
   ]
  },
  {
   "cell_type": "markdown",
   "metadata": {},
   "source": [
    "header=0 não importa o cabeçalho\n",
    "\n",
    "parse_dates=0 indica a posição onde está a data\n",
    "\n",
    "index_col=0 índece da série(data) \n",
    "\n",
    "squeeze=True informa para retornar apenas a data série"
   ]
  },
  {
   "cell_type": "code",
   "execution_count": 3,
   "metadata": {},
   "outputs": [
    {
     "name": "stdout",
     "output_type": "stream",
     "text": [
      "<class 'pandas.core.series.Series'>\n"
     ]
    }
   ],
   "source": [
    "serie = read_csv('Dados//female_birth.csv', header=0, parse_dates=[0], index_col=0, squeeze=True)\n",
    "print(type(serie))"
   ]
  },
  {
   "cell_type": "code",
   "execution_count": 5,
   "metadata": {},
   "outputs": [
    {
     "name": "stdout",
     "output_type": "stream",
     "text": [
      "Date\n",
      "1959-01-01    35\n",
      "1959-01-02    32\n",
      "1959-01-03    30\n",
      "1959-01-04    31\n",
      "1959-01-05    44\n",
      "Name: Daily total female births in California, 1959, dtype: int64\n"
     ]
    }
   ],
   "source": [
    "print(serie.head())"
   ]
  },
  {
   "cell_type": "code",
   "execution_count": 6,
   "metadata": {},
   "outputs": [
    {
     "name": "stdout",
     "output_type": "stream",
     "text": [
      "366\n"
     ]
    }
   ],
   "source": [
    "# Tamanho da série\n",
    "\n",
    "print(serie.size)"
   ]
  },
  {
   "cell_type": "code",
   "execution_count": 7,
   "metadata": {},
   "outputs": [
    {
     "name": "stdout",
     "output_type": "stream",
     "text": [
      "count     366.000000\n",
      "mean       47.218579\n",
      "std       100.472534\n",
      "min        23.000000\n",
      "25%        37.000000\n",
      "50%        42.000000\n",
      "75%        46.000000\n",
      "max      1959.000000\n",
      "Name: Daily total female births in California, 1959, dtype: float64\n"
     ]
    }
   ],
   "source": [
    "# Estatística da série\n",
    "\n",
    "print(serie.describe())"
   ]
  },
  {
   "cell_type": "code",
   "execution_count": null,
   "metadata": {},
   "outputs": [],
   "source": []
  }
 ],
 "metadata": {
  "kernelspec": {
   "display_name": "Python 3",
   "language": "python",
   "name": "python3"
  },
  "language_info": {
   "codemirror_mode": {
    "name": "ipython",
    "version": 3
   },
   "file_extension": ".py",
   "mimetype": "text/x-python",
   "name": "python",
   "nbconvert_exporter": "python",
   "pygments_lexer": "ipython3",
   "version": "3.7.6"
  }
 },
 "nbformat": 4,
 "nbformat_minor": 4
}
